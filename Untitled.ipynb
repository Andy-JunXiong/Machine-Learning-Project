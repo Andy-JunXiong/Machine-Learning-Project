{
 "cells": [
  {
   "cell_type": "code",
   "execution_count": 2,
   "metadata": {},
   "outputs": [
    {
     "name": "stdout",
     "output_type": "stream",
     "text": [
      "read data cost 8.260860919952393 second\n"
     ]
    },
    {
     "name": "stderr",
     "output_type": "stream",
     "text": [
      "/anaconda3/lib/python3.5/site-packages/sklearn/utils/validation.py:590: DataConversionWarning: Data with input dtype int64 was converted to float64 by MinMaxScaler.\n",
      "  warnings.warn(msg, DataConversionWarning)\n",
      "/anaconda3/lib/python3.5/site-packages/sklearn/utils/validation.py:590: DataConversionWarning: Data with input dtype int64 was converted to float64 by MinMaxScaler.\n",
      "  warnings.warn(msg, DataConversionWarning)\n"
     ]
    }
   ],
   "source": [
    "from time import ctime\n",
    "from time import time\n",
    "import matplotlib.pyplot as plt\n",
    "import math\n",
    "import pandas as pd\n",
    "import numpy as np\n",
    "import random\n",
    "import io\n",
    "import keras\n",
    "from sklearn.preprocessing import LabelEncoder\n",
    "from sklearn.preprocessing import Normalizer\n",
    "from sklearn import metrics  \n",
    "from sklearn.metrics import precision_recall_fscore_support\n",
    "from sklearn.metrics import accuracy_score\n",
    "from sklearn.metrics import classification_report\n",
    "from sklearn.metrics import confusion_matrix\n",
    "from sklearn.metrics import roc_curve, auc\n",
    "from sklearn.model_selection import train_test_split\n",
    "from sklearn.model_selection import StratifiedKFold\n",
    "from sklearn.preprocessing import label_binarize\n",
    "from sklearn.model_selection import StratifiedKFold\n",
    "from sklearn.decomposition import PCA\n",
    "from sklearn.preprocessing import MinMaxScaler\n",
    "\n",
    "from keras.models import Sequential\n",
    "from keras.layers import Dense, Dropout, Activation\n",
    "from keras.optimizers import SGD\n",
    "from keras.utils import np_utils  \n",
    "from keras.optimizers import RMSprop \n",
    "from keras.wrappers.scikit_learn import KerasClassifier\n",
    "from keras.layers.normalization import BatchNormalization\n",
    "from sklearn.metrics import roc_curve, auc\n",
    "import matplotlib.pyplot as plt\n",
    "\n",
    "\n",
    "#Read the training file and record the running time\n",
    "time_1 = time()\n",
    "raw_data = pd.read_csv('covtype.txt', header=None).values\n",
    "time_2 = time()\n",
    "print('read data cost '+ str(time_2 - time_1)+' second')\n",
    "\n",
    "training_data = raw_data[:15120]\n",
    "training_data_1 = training_data[:,:-1]\n",
    "training_data_label = training_data[:,-1]\n",
    "testing_data = raw_data[15120:]\n",
    "testing_data_1 = testing_data[:,:-1]\n",
    "testing_data_label = testing_data[:,-1]\n",
    "\n",
    "#Normalize training and testing Data\n",
    "scaler = MinMaxScaler(feature_range=(0, 1))\n",
    "rescaledX = scaler.fit_transform(training_data_1)\n",
    "rescaledX_test = scaler.fit_transform(testing_data_1)\n",
    "np.set_printoptions(precision=3)\n",
    "\n",
    "#Normalize the label data\n",
    "for i in range(len(training_data_label)):\n",
    "    training_data_label[i] = training_data_label[i] - 1\n",
    "for i in range(len(testing_data_label)):\n",
    "    testing_data_label[i] = testing_data_label[i] - 1\n",
    "\n",
    "#LabelEncoder normalize the labels\n",
    "encoder = LabelEncoder()\n",
    "encoded_label = encoder.fit_transform(training_data_label)\n",
    "training_data_label = np_utils.to_categorical(encoded_label) \n",
    "\n",
    "#PCA to decomposition \n",
    "pca = PCA(n_components=0.95,whiten=True)\n",
    "train_x  = pca.fit_transform(rescaledX)\n",
    "test_x = pca.transform(rescaledX_test)"
   ]
  },
  {
   "cell_type": "code",
   "execution_count": 4,
   "metadata": {},
   "outputs": [
    {
     "name": "stdout",
     "output_type": "stream",
     "text": [
      "(15120, 27)\n"
     ]
    }
   ],
   "source": [
    "print(train_x.shape)"
   ]
  },
  {
   "cell_type": "code",
   "execution_count": null,
   "metadata": {},
   "outputs": [],
   "source": []
  }
 ],
 "metadata": {
  "kernelspec": {
   "display_name": "Python 3",
   "language": "python",
   "name": "python3"
  },
  "language_info": {
   "codemirror_mode": {
    "name": "ipython",
    "version": 3
   },
   "file_extension": ".py",
   "mimetype": "text/x-python",
   "name": "python",
   "nbconvert_exporter": "python",
   "pygments_lexer": "ipython3",
   "version": "3.5.6"
  }
 },
 "nbformat": 4,
 "nbformat_minor": 2
}
