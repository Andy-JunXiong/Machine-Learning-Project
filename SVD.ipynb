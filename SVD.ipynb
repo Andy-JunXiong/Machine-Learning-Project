{
 "cells": [
  {
   "cell_type": "code",
   "execution_count": null,
   "metadata": {},
   "outputs": [],
   "source": [
    "import pandas as pd\n",
    "import io\n",
    "df_train = pd.read_csv('training_data.csv')"
   ]
  },
  {
   "cell_type": "code",
   "execution_count": 41,
   "metadata": {},
   "outputs": [],
   "source": [
    "df_train1 = df_train[0:12000]\n"
   ]
  },
  {
   "cell_type": "code",
   "execution_count": 42,
   "metadata": {},
   "outputs": [
    {
     "data": {
      "text/plain": [
       "array([[0.0, 0.0, 0.0, ..., 0.0, 0.0, 0.0],\n",
       "       [0.0, 0.0, 0.0, ..., 0.0, 0.0, 0.0],\n",
       "       [0.0, 0.0, 0.0, ..., 0.0, 0.0, 0.0],\n",
       "       ..., \n",
       "       [0.0, 0.0, 0.0, ..., 0.0, 0.0, 0.0],\n",
       "       [0.0, 0.0, 0.0, ..., 0.0, 0.0, 0.0],\n",
       "       [0.0, 0.0, 0.0, ..., 0.0, 0.0, 0.0]], dtype=object)"
      ]
     },
     "execution_count": 42,
     "metadata": {},
     "output_type": "execute_result"
    }
   ],
   "source": [
    "df_train2 = df_train1.values[:,1:]\n",
    "df_train2\n"
   ]
  },
  {
   "cell_type": "code",
   "execution_count": 43,
   "metadata": {},
   "outputs": [
    {
     "name": "stdout",
     "output_type": "stream",
     "text": [
      "U = [[-0.   -0.    0.   ..., -0.   -0.   -0.  ]\n",
      " [-0.   -0.01  0.   ...,  0.   -0.   -0.  ]\n",
      " [-0.   -0.01 -0.   ...,  0.    0.    0.  ]\n",
      " ..., \n",
      " [-0.01  0.    0.   ...,  0.   -0.   -0.  ]\n",
      " [-0.01 -0.02  0.   ..., -0.    0.   -0.  ]\n",
      " [-0.01 -0.01 -0.   ..., -0.   -0.   -0.  ]] \n",
      "\n",
      " s = [[ 14.9    0.     0.   ...,   0.     0.     0.  ]\n",
      " [  0.    11.43   0.   ...,   0.     0.     0.  ]\n",
      " [  0.     0.    10.01 ...,   0.     0.     0.  ]\n",
      " ..., \n",
      " [  0.     0.     0.   ...,   0.     0.     0.  ]\n",
      " [  0.     0.     0.   ...,   0.     0.     0.  ]\n",
      " [  0.     0.     0.   ...,   0.     0.     0.  ]] \n",
      "\n",
      " Vt = [[-0.   -0.   -0.   ..., -0.   -0.   -0.  ]\n",
      " [-0.   -0.   -0.   ..., -0.   -0.   -0.  ]\n",
      " [ 0.    0.    0.   ..., -0.    0.    0.  ]\n",
      " ..., \n",
      " [ 0.    0.01  0.   ..., -0.01 -0.   -0.  ]\n",
      " [-0.   -0.01  0.   ...,  0.    0.   -0.01]\n",
      " [-0.    0.01  0.   ...,  0.   -0.   -0.01]] \n",
      "\n"
     ]
    }
   ],
   "source": [
    "import numpy as np\n",
    "import math\n",
    "A = df_train2.astype(float)\n",
    "U, s, Vt = np.linalg.svd(A, full_matrices=False)\n",
    "S = np.diag(s)\n",
    "print( 'U = {} \\n\\n s = {} \\n\\n Vt = {} \\n'.format(np.round(U, 2), np.round(S, 2), np.round(Vt, 2)) )\n",
    "\n",
    "\n",
    "\n"
   ]
  },
  {
   "cell_type": "code",
   "execution_count": 51,
   "metadata": {},
   "outputs": [
    {
     "name": "stdout",
     "output_type": "stream",
     "text": [
      "If we choose 2400 dominant singular value/s;\n",
      " A_hat_reconstructed = \n",
      "[[ 0. -0. -0. ..., -0. -0. -0.]\n",
      " [-0.  0. -0. ..., -0. -0. -0.]\n",
      " [-0. -0.  0. ..., -0. -0. -0.]\n",
      " ..., \n",
      " [-0. -0.  0. ..., -0. -0. -0.]\n",
      " [-0.  0.  0. ..., -0.  0.  0.]\n",
      " [-0. -0.  0. ..., -0. -0. -0.]] \n",
      " SSE = 1965.2686325440964 and\n",
      " compresion ratio = 0.3761485396\n",
      "\n",
      "\n",
      "If we choose 2401 dominant singular value/s;\n",
      " A_hat_reconstructed = \n",
      "[[ 0. -0. -0. ..., -0. -0. -0.]\n",
      " [-0.  0. -0. ..., -0. -0. -0.]\n",
      " [-0. -0.  0. ..., -0. -0. -0.]\n",
      " ..., \n",
      " [-0. -0.  0. ..., -0. -0. -0.]\n",
      " [-0.  0.  0. ..., -0.  0.  0.]\n",
      " [-0. -0.  0. ..., -0. -0. -0.]] \n",
      " SSE = 1963.995858492739 and\n",
      " compresion ratio = 0.3763052681\n",
      "\n",
      "\n",
      "If we choose 2402 dominant singular value/s;\n",
      " A_hat_reconstructed = \n",
      "[[ 0.  0. -0. ..., -0. -0. -0.]\n",
      " [-0.  0. -0. ..., -0. -0. -0.]\n",
      " [-0. -0.  0. ..., -0. -0. -0.]\n",
      " ..., \n",
      " [-0. -0.  0. ..., -0. -0. -0.]\n",
      " [-0.  0.  0. ..., -0.  0.  0.]\n",
      " [-0. -0.  0. ..., -0. -0. -0.]] \n",
      " SSE = 1962.723225256427 and\n",
      " compresion ratio = 0.3764619967\n",
      "\n",
      "\n",
      "If we choose 2403 dominant singular value/s;\n",
      " A_hat_reconstructed = \n",
      "[[ 0.  0. -0. ..., -0. -0. -0.]\n",
      " [-0.  0. -0. ..., -0. -0. -0.]\n",
      " [-0. -0.  0. ..., -0. -0. -0.]\n",
      " ..., \n",
      " [-0. -0.  0. ..., -0. -0. -0.]\n",
      " [-0.  0.  0. ...,  0.  0.  0.]\n",
      " [-0. -0.  0. ..., -0. -0. -0.]] \n",
      " SSE = 1961.4508871359733 and\n",
      " compresion ratio = 0.3766187252\n",
      "\n",
      "\n",
      "If we choose 2404 dominant singular value/s;\n",
      " A_hat_reconstructed = \n",
      "[[ 0. -0. -0. ...,  0. -0. -0.]\n",
      " [-0.  0. -0. ..., -0. -0. -0.]\n",
      " [-0. -0.  0. ..., -0. -0. -0.]\n",
      " ..., \n",
      " [-0. -0.  0. ..., -0. -0. -0.]\n",
      " [-0.  0.  0. ...,  0.  0.  0.]\n",
      " [-0. -0.  0. ..., -0. -0. -0.]] \n",
      " SSE = 1960.1794249460359 and\n",
      " compresion ratio = 0.3767754538\n",
      "\n",
      "\n",
      "If we choose 2405 dominant singular value/s;\n",
      " A_hat_reconstructed = \n",
      "[[ 0. -0. -0. ...,  0. -0. -0.]\n",
      " [-0.  0. -0. ..., -0. -0. -0.]\n",
      " [-0. -0.  0. ..., -0. -0. -0.]\n",
      " ..., \n",
      " [-0. -0.  0. ..., -0. -0. -0.]\n",
      " [-0.  0.  0. ..., -0.  0.  0.]\n",
      " [-0. -0.  0. ..., -0. -0. -0.]] \n",
      " SSE = 1958.9083986155208 and\n",
      " compresion ratio = 0.3769321823\n",
      "\n",
      "\n"
     ]
    },
    {
     "ename": "KeyboardInterrupt",
     "evalue": "",
     "output_type": "error",
     "traceback": [
      "\u001b[0;31m---------------------------------------------------------------------------\u001b[0m",
      "\u001b[0;31mKeyboardInterrupt\u001b[0m                         Traceback (most recent call last)",
      "\u001b[0;32m<ipython-input-51-dd166c572a78>\u001b[0m in \u001b[0;36m<module>\u001b[0;34m()\u001b[0m\n\u001b[1;32m      1\u001b[0m \u001b[0;32mfor\u001b[0m \u001b[0mn_components\u001b[0m \u001b[0;32min\u001b[0m \u001b[0mrange\u001b[0m\u001b[0;34m(\u001b[0m\u001b[0;36m2400\u001b[0m\u001b[0;34m,\u001b[0m\u001b[0;36m2500\u001b[0m\u001b[0;34m)\u001b[0m\u001b[0;34m:\u001b[0m\u001b[0;34m\u001b[0m\u001b[0m\n\u001b[0;32m----> 2\u001b[0;31m     \u001b[0mA_hat_reconstructed\u001b[0m \u001b[0;34m=\u001b[0m \u001b[0mU\u001b[0m\u001b[0;34m[\u001b[0m\u001b[0;36m0\u001b[0m\u001b[0;34m:\u001b[0m\u001b[0mU\u001b[0m\u001b[0;34m.\u001b[0m\u001b[0mshape\u001b[0m\u001b[0;34m[\u001b[0m\u001b[0;36m0\u001b[0m\u001b[0;34m]\u001b[0m\u001b[0;34m,\u001b[0m \u001b[0;36m0\u001b[0m\u001b[0;34m:\u001b[0m\u001b[0mn_components\u001b[0m\u001b[0;34m]\u001b[0m       \u001b[0;34m.\u001b[0m\u001b[0mdot\u001b[0m\u001b[0;34m(\u001b[0m\u001b[0mS\u001b[0m\u001b[0;34m[\u001b[0m\u001b[0;36m0\u001b[0m\u001b[0;34m:\u001b[0m\u001b[0mn_components\u001b[0m\u001b[0;34m,\u001b[0m\u001b[0;36m0\u001b[0m\u001b[0;34m:\u001b[0m\u001b[0mn_components\u001b[0m\u001b[0;34m]\u001b[0m\u001b[0;34m)\u001b[0m       \u001b[0;34m.\u001b[0m\u001b[0mdot\u001b[0m\u001b[0;34m(\u001b[0m\u001b[0mVt\u001b[0m\u001b[0;34m[\u001b[0m\u001b[0;36m0\u001b[0m\u001b[0;34m:\u001b[0m\u001b[0mn_components\u001b[0m\u001b[0;34m,\u001b[0m \u001b[0;36m0\u001b[0m\u001b[0;34m:\u001b[0m\u001b[0mVt\u001b[0m\u001b[0;34m.\u001b[0m\u001b[0mshape\u001b[0m\u001b[0;34m[\u001b[0m\u001b[0;36m1\u001b[0m\u001b[0;34m]\u001b[0m\u001b[0;34m]\u001b[0m\u001b[0;34m)\u001b[0m\u001b[0;34m\u001b[0m\u001b[0m\n\u001b[0m\u001b[1;32m      3\u001b[0m     \u001b[0mSSE\u001b[0m \u001b[0;34m=\u001b[0m \u001b[0mnp\u001b[0m\u001b[0;34m.\u001b[0m\u001b[0msum\u001b[0m\u001b[0;34m(\u001b[0m\u001b[0;34m(\u001b[0m\u001b[0mA\u001b[0m \u001b[0;34m-\u001b[0m \u001b[0mA_hat_reconstructed\u001b[0m\u001b[0;34m)\u001b[0m\u001b[0;34m**\u001b[0m\u001b[0;36m2\u001b[0m\u001b[0;34m)\u001b[0m\u001b[0;34m\u001b[0m\u001b[0m\n\u001b[1;32m      4\u001b[0m     \u001b[0mapprox_ratio\u001b[0m \u001b[0;34m=\u001b[0m \u001b[0mn_components\u001b[0m\u001b[0;34m/\u001b[0m\u001b[0mA\u001b[0m\u001b[0;34m.\u001b[0m\u001b[0mshape\u001b[0m\u001b[0;34m[\u001b[0m\u001b[0;36m1\u001b[0m\u001b[0;34m]\u001b[0m\u001b[0;34m\u001b[0m\u001b[0m\n\u001b[1;32m      5\u001b[0m     \u001b[0mcomp_ratio\u001b[0m \u001b[0;34m=\u001b[0m \u001b[0;34m(\u001b[0m\u001b[0mA\u001b[0m\u001b[0;34m.\u001b[0m\u001b[0mshape\u001b[0m\u001b[0;34m[\u001b[0m\u001b[0;36m1\u001b[0m\u001b[0;34m]\u001b[0m\u001b[0;34m*\u001b[0m\u001b[0mn_components\u001b[0m \u001b[0;34m+\u001b[0m \u001b[0mn_components\u001b[0m \u001b[0;34m+\u001b[0m \u001b[0mA\u001b[0m\u001b[0;34m.\u001b[0m\u001b[0mshape\u001b[0m\u001b[0;34m[\u001b[0m\u001b[0;36m0\u001b[0m\u001b[0;34m]\u001b[0m\u001b[0;34m*\u001b[0m\u001b[0mn_components\u001b[0m\u001b[0;34m)\u001b[0m\u001b[0;34m/\u001b[0m\u001b[0;34m(\u001b[0m\u001b[0mA\u001b[0m\u001b[0;34m.\u001b[0m\u001b[0mshape\u001b[0m\u001b[0;34m[\u001b[0m\u001b[0;36m1\u001b[0m\u001b[0;34m]\u001b[0m \u001b[0;34m*\u001b[0m \u001b[0mA\u001b[0m\u001b[0;34m.\u001b[0m\u001b[0mshape\u001b[0m\u001b[0;34m[\u001b[0m\u001b[0;36m0\u001b[0m\u001b[0;34m]\u001b[0m\u001b[0;34m)\u001b[0m\u001b[0;34m\u001b[0m\u001b[0m\n",
      "\u001b[0;31mKeyboardInterrupt\u001b[0m: "
     ]
    }
   ],
   "source": [
    "for n_components in range(2400,2500):    \n",
    "    A_hat_reconstructed = U[0:U.shape[0], 0:n_components]\\\n",
    "       .dot(S[0:n_components,0:n_components])\\\n",
    "       .dot(Vt[0:n_components, 0:Vt.shape[1]])\n",
    "    SSE = np.sum((A - A_hat_reconstructed)**2) \n",
    "    approx_ratio = n_components/A.shape[1] \n",
    "    comp_ratio = (A.shape[1]*n_components + n_components + A.shape[0]*n_components)/(A.shape[1] * A.shape[0])\n",
    "    \n",
    "    #print(np.round(a,2))  \n",
    "    print('If we choose {} dominant singular value/s;\\n A_hat_reconstructed = \\n{} \\n SSE = {} and\\n compresion ratio = {}\\n\\n'\\\n",
    "          .format(n_components, np.round(A_hat_reconstructed, 2), SSE, np.round(comp_ratio,10)))    "
   ]
  },
  {
   "cell_type": "code",
   "execution_count": null,
   "metadata": {},
   "outputs": [],
   "source": []
  }
 ],
 "metadata": {
  "kernelspec": {
   "display_name": "Python 3",
   "language": "python",
   "name": "python3"
  },
  "language_info": {
   "codemirror_mode": {
    "name": "ipython",
    "version": 3
   },
   "file_extension": ".py",
   "mimetype": "text/x-python",
   "name": "python",
   "nbconvert_exporter": "python",
   "pygments_lexer": "ipython3",
   "version": "3.6.1rc1"
  }
 },
 "nbformat": 4,
 "nbformat_minor": 2
}
